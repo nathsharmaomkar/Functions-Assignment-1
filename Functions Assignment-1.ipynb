{
 "cells": [
  {
   "cell_type": "markdown",
   "id": "8603803c-ea96-42e1-9e27-625914d27328",
   "metadata": {},
   "source": [
    "Q1: Which keyword is used to create a function? Create a function to return a list of odd numbers in the\n",
    "range of 1 to 25."
   ]
  },
  {
   "cell_type": "code",
   "execution_count": 5,
   "id": "4f53e3cb-719b-44a5-a7d5-600cbbac2e21",
   "metadata": {},
   "outputs": [],
   "source": [
    "def odd():\n",
    "    for i in range(1,26,2):\n",
    "        print(i)"
   ]
  },
  {
   "cell_type": "code",
   "execution_count": 6,
   "id": "e87296c4-5244-44d0-bdfa-82435d2cb558",
   "metadata": {},
   "outputs": [
    {
     "name": "stdout",
     "output_type": "stream",
     "text": [
      "1\n",
      "3\n",
      "5\n",
      "7\n",
      "9\n",
      "11\n",
      "13\n",
      "15\n",
      "17\n",
      "19\n",
      "21\n",
      "23\n",
      "25\n"
     ]
    }
   ],
   "source": [
    "odd()"
   ]
  },
  {
   "cell_type": "markdown",
   "id": "ed261b3f-6c6e-4bcd-a72c-d081a966139e",
   "metadata": {},
   "source": [
    "Q2:Why *args and **kwargs is used in some functions? Create a function each for *args and **kwargs\n",
    "to demonstrate their use."
   ]
  },
  {
   "cell_type": "markdown",
   "id": "82759401-7f5d-4fcc-9862-3c3f30d0f8d9",
   "metadata": {},
   "source": [
    "Ans:*args and **kwargs allow you to pass multiple arguments or keyword arguments to a function."
   ]
  },
  {
   "cell_type": "code",
   "execution_count": 7,
   "id": "baac209d-fffd-4cac-919c-7f6b891ae211",
   "metadata": {},
   "outputs": [],
   "source": [
    "def summation(*args):\n",
    "    return sum(args)"
   ]
  },
  {
   "cell_type": "code",
   "execution_count": 8,
   "id": "a6d0cfe2-3335-449c-8317-beaec360edf1",
   "metadata": {},
   "outputs": [
    {
     "data": {
      "text/plain": [
       "6"
      ]
     },
     "execution_count": 8,
     "metadata": {},
     "output_type": "execute_result"
    }
   ],
   "source": [
    "summation(1,2,3)"
   ]
  },
  {
   "cell_type": "code",
   "execution_count": 9,
   "id": "9b1ac163-ae62-4141-afad-87912cb78431",
   "metadata": {},
   "outputs": [
    {
     "data": {
      "text/plain": [
       "276"
      ]
     },
     "execution_count": 9,
     "metadata": {},
     "output_type": "execute_result"
    }
   ],
   "source": [
    "summation(96,36,14,45,85)"
   ]
  },
  {
   "cell_type": "code",
   "execution_count": 10,
   "id": "aba78783-2bca-4a41-a677-33c23c23555b",
   "metadata": {},
   "outputs": [],
   "source": [
    "def dict(**kwargs):\n",
    "    return kwargs"
   ]
  },
  {
   "cell_type": "code",
   "execution_count": 11,
   "id": "57ddfaa9-8a6f-4cf2-8335-7bc47b9eda9b",
   "metadata": {},
   "outputs": [
    {
     "data": {
      "text/plain": [
       "{'a': [5, 6, 1, 2], 'name': 'Omkar', 'b': 85.63}"
      ]
     },
     "execution_count": 11,
     "metadata": {},
     "output_type": "execute_result"
    }
   ],
   "source": [
    "dict(a=[5,6,1,2],name='Omkar',b=85.63)"
   ]
  },
  {
   "cell_type": "markdown",
   "id": "bcf2a7f3-e05b-4218-97f8-fde299568b55",
   "metadata": {},
   "source": [
    "Q3:What is an iterator in python? Name the method used to initialise the iterator object and the method\n",
    "used for iteration. Use these methods to print the first five elements of the given list [2, 4, 6, 8, 10, 12, 14,\n",
    "16, 18, 20]."
   ]
  },
  {
   "cell_type": "markdown",
   "id": "3ff5b0f5-f4c0-41da-8520-96143b0255b7",
   "metadata": {},
   "source": [
    "An iterator is an object that contains a countable number of values.\n",
    "An iterator is an object that can be iterated upon, meaning that you can traverse through all the values.\n",
    "Technically, in Python, an iterator is an object which implements the iterator protocol, which consist of the methods __iter__() and __next__()."
   ]
  },
  {
   "cell_type": "code",
   "execution_count": 1,
   "id": "69fcd9d1-fcd9-4fe0-8080-2bef299356cb",
   "metadata": {},
   "outputs": [
    {
     "ename": "TypeError",
     "evalue": "'int' object is not an iterator",
     "output_type": "error",
     "traceback": [
      "\u001b[0;31m---------------------------------------------------------------------------\u001b[0m",
      "\u001b[0;31mTypeError\u001b[0m                                 Traceback (most recent call last)",
      "Cell \u001b[0;32mIn[1], line 3\u001b[0m\n\u001b[1;32m      1\u001b[0m l\u001b[38;5;241m=\u001b[39m[\u001b[38;5;241m2\u001b[39m,\u001b[38;5;241m4\u001b[39m,\u001b[38;5;241m6\u001b[39m,\u001b[38;5;241m8\u001b[39m,\u001b[38;5;241m10\u001b[39m,\u001b[38;5;241m12\u001b[39m,\u001b[38;5;241m14\u001b[39m,\u001b[38;5;241m16\u001b[39m,\u001b[38;5;241m18\u001b[39m,\u001b[38;5;241m20\u001b[39m]\n\u001b[1;32m      2\u001b[0m \u001b[38;5;28;01mfor\u001b[39;00m i \u001b[38;5;129;01min\u001b[39;00m l:\n\u001b[0;32m----> 3\u001b[0m     \u001b[38;5;28mprint\u001b[39m(\u001b[38;5;28;43mnext\u001b[39;49m\u001b[43m(\u001b[49m\u001b[43mi\u001b[49m\u001b[43m)\u001b[49m)\n",
      "\u001b[0;31mTypeError\u001b[0m: 'int' object is not an iterator"
     ]
    }
   ],
   "source": [
    "l=[2,4,6,8,10,12,14,16,18,20]\n",
    "for i in l:\n",
    "    print(next(i))"
   ]
  },
  {
   "cell_type": "code",
   "execution_count": 2,
   "id": "cf17ff9f-a4a3-4270-8c42-552774142a7a",
   "metadata": {},
   "outputs": [],
   "source": [
    "#first we have to convert l into iterator\n",
    "l1=iter(l)"
   ]
  },
  {
   "cell_type": "code",
   "execution_count": 4,
   "id": "a5cd9b24-723b-46eb-9f91-467318f65378",
   "metadata": {},
   "outputs": [
    {
     "data": {
      "text/plain": [
       "list_iterator"
      ]
     },
     "execution_count": 4,
     "metadata": {},
     "output_type": "execute_result"
    }
   ],
   "source": [
    "type(l1)"
   ]
  },
  {
   "cell_type": "code",
   "execution_count": 7,
   "id": "ba8e2c12-e03f-42fc-ad20-788f49c35dae",
   "metadata": {},
   "outputs": [
    {
     "name": "stdout",
     "output_type": "stream",
     "text": [
      "8\n"
     ]
    }
   ],
   "source": [
    "print(next(l1))"
   ]
  },
  {
   "cell_type": "code",
   "execution_count": 8,
   "id": "bfb585ef-ca02-4955-8098-9ebe64b178a4",
   "metadata": {},
   "outputs": [
    {
     "name": "stdout",
     "output_type": "stream",
     "text": [
      "10\n"
     ]
    }
   ],
   "source": [
    "print(next(l1))"
   ]
  },
  {
   "cell_type": "code",
   "execution_count": 9,
   "id": "d33e18b6-8ca9-4b7e-8b1a-9ddebc1f3782",
   "metadata": {},
   "outputs": [
    {
     "name": "stdout",
     "output_type": "stream",
     "text": [
      "12\n"
     ]
    }
   ],
   "source": [
    "print(next(l1))"
   ]
  },
  {
   "cell_type": "code",
   "execution_count": 10,
   "id": "d3ac374c-541b-4c82-ba72-81761d1183ca",
   "metadata": {},
   "outputs": [
    {
     "name": "stdout",
     "output_type": "stream",
     "text": [
      "14\n"
     ]
    }
   ],
   "source": [
    "print(next(l1))"
   ]
  },
  {
   "cell_type": "code",
   "execution_count": 11,
   "id": "0c696a09-5767-4ea4-a45b-a5dcfa940c47",
   "metadata": {},
   "outputs": [
    {
     "name": "stdout",
     "output_type": "stream",
     "text": [
      "16\n"
     ]
    }
   ],
   "source": [
    "print(next(l1))"
   ]
  },
  {
   "cell_type": "code",
   "execution_count": 12,
   "id": "f5f0b6aa-367d-444d-a564-9f84ad9add2e",
   "metadata": {},
   "outputs": [
    {
     "name": "stdout",
     "output_type": "stream",
     "text": [
      "18\n"
     ]
    }
   ],
   "source": [
    "print(next(l1))"
   ]
  },
  {
   "cell_type": "code",
   "execution_count": 13,
   "id": "c49b76b9-87dc-4cd8-ae08-bc857483f904",
   "metadata": {},
   "outputs": [
    {
     "name": "stdout",
     "output_type": "stream",
     "text": [
      "20\n"
     ]
    }
   ],
   "source": [
    "print(next(l1))"
   ]
  },
  {
   "cell_type": "markdown",
   "id": "4c137ff6-0a36-476f-b962-2bb2ad460cb3",
   "metadata": {},
   "source": [
    "Q4. What is a generator function in python? Why yield keyword is used? Give an example of a generator\n",
    "function."
   ]
  },
  {
   "cell_type": "markdown",
   "id": "07306b5e-2c9e-4016-ae4d-60dfd2a4f320",
   "metadata": {},
   "source": [
    "Ans:A generator is a function that returns an iterator that produces a sequence of values when iterated over. Generators are useful when we want to produce a large sequence of values, but we don't want to store all of them in memory at once.\n",
    "The yield keyword is used to produce a value from the generator and pause the generator function's execution until the next value is requested."
   ]
  },
  {
   "cell_type": "code",
   "execution_count": 23,
   "id": "d1f2e17a-61ba-4027-946a-24fc3b19241c",
   "metadata": {},
   "outputs": [],
   "source": [
    "def fib(n):\n",
    "    a,b=0,1\n",
    "    for i in range(n):\n",
    "        yield a\n",
    "        a,b=b,a+b"
   ]
  },
  {
   "cell_type": "code",
   "execution_count": 24,
   "id": "ead54f83-2264-4818-9214-f06498a67b17",
   "metadata": {},
   "outputs": [
    {
     "name": "stdout",
     "output_type": "stream",
     "text": [
      "0\n",
      "1\n",
      "1\n",
      "2\n",
      "3\n",
      "5\n",
      "8\n",
      "13\n",
      "21\n",
      "34\n"
     ]
    }
   ],
   "source": [
    "for i in fib(10):\n",
    "    print(i)\n"
   ]
  },
  {
   "cell_type": "markdown",
   "id": "2481ba47-4ba8-47ec-9c8b-b2ea75a8e135",
   "metadata": {},
   "source": [
    "Q5. Create a generator function for prime numbers less than 1000. Use the next() method to print the\n",
    "first 20 prime numbers."
   ]
  },
  {
   "cell_type": "code",
   "execution_count": 45,
   "id": "17d76a71-9300-4cc5-81db-23bda6bb75f2",
   "metadata": {},
   "outputs": [],
   "source": [
    "from math import sqrt\n",
    "\n",
    "def is_prime(n):\n",
    "    if (n <= 1):\n",
    "        return False\n",
    "    if (n == 2):\n",
    "        return True\n",
    "    if (n % 2 == 0):\n",
    "        return False\n",
    "\n",
    "    i = 3\n",
    "    while i <= sqrt(n):\n",
    "        if n % i == 0:\n",
    "            return False\n",
    "        i = i + 2\n",
    "\n",
    "    return True\n",
    "\n",
    "\n",
    "def prime_generator(limit=1000):\n",
    "    n = 1\n",
    "    while True:\n",
    "        if n<limit:\n",
    "            if is_prime(n):\n",
    "                yield n\n",
    "            n=n+1\n",
    "        else:\n",
    "            break"
   ]
  },
  {
   "cell_type": "code",
   "execution_count": 47,
   "id": "45da4ba3-92c8-48c0-9cad-06a68bc57c1e",
   "metadata": {},
   "outputs": [],
   "source": [
    "primelist=list(prime_generator(1000))"
   ]
  },
  {
   "cell_type": "markdown",
   "id": "fa10eab1-e642-41a0-a1ff-5feb0d9d8e2d",
   "metadata": {},
   "source": [
    "Q6.Write a python program to print the first 10 Fibonacci numbers using a while loop."
   ]
  },
  {
   "cell_type": "code",
   "execution_count": 1,
   "id": "b61b0ad0-82d4-4ca3-9dfc-ef1d2f931ac2",
   "metadata": {},
   "outputs": [
    {
     "name": "stdout",
     "output_type": "stream",
     "text": [
      "0\n",
      "1\n",
      "1\n",
      "2\n",
      "3\n",
      "5\n",
      "8\n",
      "13\n",
      "21\n",
      "34\n"
     ]
    }
   ],
   "source": [
    "a=0\n",
    "b=1\n",
    "i=1\n",
    "while i<=10:\n",
    "    print(a)\n",
    "    fib=a+b\n",
    "    a=b\n",
    "    b=fib\n",
    "    i=i+1"
   ]
  },
  {
   "cell_type": "markdown",
   "id": "0ca9d7da-7124-4633-b60f-3b0840e8f794",
   "metadata": {},
   "source": [
    "Q7.Write a List Comprehension to iterate through the given string: ‘pwskills’.\n",
    "\n",
    "Expected output: ['p', 'w', 's', 'k', 'i', 'l', 'l', 's']"
   ]
  },
  {
   "cell_type": "code",
   "execution_count": 2,
   "id": "45f2843d-cf63-434f-8633-ff1b7820a58e",
   "metadata": {},
   "outputs": [
    {
     "name": "stdout",
     "output_type": "stream",
     "text": [
      "['p', 'w', 's', 'k', 'i', 'l', 'l', 's']\n"
     ]
    }
   ],
   "source": [
    "a='pwskills'\n",
    "b=list(a)\n",
    "print(b)"
   ]
  },
  {
   "cell_type": "markdown",
   "id": "2da0c331-7ac0-425c-943b-a58dd2b2794d",
   "metadata": {},
   "source": [
    "Q8.Write a python program to check whether a given number is Palindrome or not using a while loop."
   ]
  },
  {
   "cell_type": "code",
   "execution_count": 17,
   "id": "52f1f7f5-22ea-4a7e-9b05-bbb909cb165c",
   "metadata": {},
   "outputs": [
    {
     "name": "stdin",
     "output_type": "stream",
     "text": [
      "Enter the Number: 1221\n"
     ]
    },
    {
     "name": "stdout",
     "output_type": "stream",
     "text": [
      "Entered number is a Palindrome\n"
     ]
    }
   ],
   "source": [
    "a=(input(\"Enter the Number:\"))\n",
    "if(a==a[::-1]):\n",
    "    print(\"Entered number is a Palindrome\")\n",
    "else:\n",
    "    print(\"Entered number is not a Palindrome\")"
   ]
  },
  {
   "cell_type": "markdown",
   "id": "ce886f7e-c2ae-4191-904a-65129788f580",
   "metadata": {},
   "source": [
    "Q9.Write a code to print odd numbers from 1 to 100 using list comprehension.\n",
    "\n",
    "Note: Use a list comprehension to create a list from 1 to 100 and use another List comprehension to filter out odd numbers."
   ]
  },
  {
   "cell_type": "code",
   "execution_count": 26,
   "id": "efb03118-2242-4948-a712-ae8bb1ea19c1",
   "metadata": {},
   "outputs": [
    {
     "name": "stdout",
     "output_type": "stream",
     "text": [
      "List of numbers from 1 to 100:\n",
      " [1, 2, 3, 4, 5, 6, 7, 8, 9, 10, 11, 12, 13, 14, 15, 16, 17, 18, 19, 20, 21, 22, 23, 24, 25, 26, 27, 28, 29, 30, 31, 32, 33, 34, 35, 36, 37, 38, 39, 40, 41, 42, 43, 44, 45, 46, 47, 48, 49, 50, 51, 52, 53, 54, 55, 56, 57, 58, 59, 60, 61, 62, 63, 64, 65, 66, 67, 68, 69, 70, 71, 72, 73, 74, 75, 76, 77, 78, 79, 80, 81, 82, 83, 84, 85, 86, 87, 88, 89, 90, 91, 92, 93, 94, 95, 96, 97, 98, 99, 100]\n",
      "List of Odd Numbers:\n",
      " [1, 3, 5, 7, 9, 11, 13, 15, 17, 19, 21, 23, 25, 27, 29, 31, 33, 35, 37, 39, 41, 43, 45, 47, 49, 51, 53, 55, 57, 59, 61, 63, 65, 67, 69, 71, 73, 75, 77, 79, 81, 83, 85, 87, 89, 91, 93, 95, 97, 99]\n"
     ]
    }
   ],
   "source": [
    "list_number=[element for element in range (1,101)]\n",
    "print(\"List of numbers from 1 to 100:\\n\",list_number)\n",
    "odd_list = [element for element in list_number if element % 2 == 1 ]\n",
    "print(\"List of Odd Numbers:\\n\",odd_list)"
   ]
  }
 ],
 "metadata": {
  "kernelspec": {
   "display_name": "Python 3 (ipykernel)",
   "language": "python",
   "name": "python3"
  },
  "language_info": {
   "codemirror_mode": {
    "name": "ipython",
    "version": 3
   },
   "file_extension": ".py",
   "mimetype": "text/x-python",
   "name": "python",
   "nbconvert_exporter": "python",
   "pygments_lexer": "ipython3",
   "version": "3.10.8"
  }
 },
 "nbformat": 4,
 "nbformat_minor": 5
}
